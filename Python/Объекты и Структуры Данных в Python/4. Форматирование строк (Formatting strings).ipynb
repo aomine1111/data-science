{
 "cells": [
  {
   "metadata": {},
   "cell_type": "markdown",
   "source": "# Форматирование строк\n",
   "id": "83fb4586e92f4410"
  },
  {
   "metadata": {},
   "cell_type": "markdown",
   "source": [
    "Форматирование строк позволяет Вам добавлять элементы внутрь строки вместо того, чтобы соединять строки вместе с помощью запятых или конкатенации. В качестве примера, сравните:\n",
    "\n",
    "    player = 'Thomas'\n",
    "    points = 33\n",
    "\n",
    "    'Last night, '+player+' scored '+str(points)+' points.'  # конкатенация\n",
    "\n",
    "    f'Last night, {player} scored {points} points.'          # форматирование строк\n",
    "\n",
    "\n",
    "Форматирование строк можно выполнить тремя способами.\n",
    "* Старый способ - это использование %s, которые потом заменяются на значения.\n",
    "* Улучшенный способ использует метод `.format()`.\n",
    "* Новый способ, появившийся в Python 3.6: f-строки (*f-strings*).\n",
    "\n",
    "Поскольку Вы можете встретить все три варианта в коде, который пишут другие люди, то давайте разберём все три варианта."
   ],
   "id": "5151665994844830"
  },
  {
   "metadata": {},
   "cell_type": "markdown",
   "source": [
    "## Форматирование с помощью замены %s\n",
    "Можно использовать <code>%s</code>, чтобы вставить строку внутрь операции print. Символ `%` в этом случае называется оператором форматирования строки (\"string formatting operator\")."
   ],
   "id": "344861083487b41b"
  },
  {
   "metadata": {
    "ExecuteTime": {
     "end_time": "2025-08-15T05:10:10.524525Z",
     "start_time": "2025-08-15T05:10:10.515975Z"
    }
   },
   "cell_type": "code",
   "source": "print(\"I'm going to inject %s here.\"%\"something\")",
   "id": "2624b8545afadcf7",
   "outputs": [
    {
     "name": "stdout",
     "output_type": "stream",
     "text": [
      "I'm going to inject something here.\n"
     ]
    }
   ],
   "execution_count": 1
  },
  {
   "metadata": {},
   "cell_type": "markdown",
   "source": "Вы можете передать несколько значений, для этого нужно поместить их после оператора `%` в виде кортежа (tuple). Очень скоро у нас будет лекция про кортежи, но в двух словах - это несколько значений, указанные в круглых скобках через запятую",
   "id": "36662c33ddccadde"
  },
  {
   "metadata": {
    "ExecuteTime": {
     "end_time": "2025-08-15T05:11:27.496410Z",
     "start_time": "2025-08-15T05:11:27.490751Z"
    }
   },
   "cell_type": "code",
   "source": "print(\"I'm going to inject %s text here, and %s text here.\" %('some','more'))",
   "id": "f93777c45f820fd4",
   "outputs": [
    {
     "name": "stdout",
     "output_type": "stream",
     "text": [
      "I'm going to inject some text here, and more text here.\n"
     ]
    }
   ],
   "execution_count": 2
  },
  {
   "metadata": {},
   "cell_type": "markdown",
   "source": [
    "### Методы конвертации.\n",
    "Два метода - <code>%s</code> и <code>%r</code> - могут конвертировать любой объект python в строку, используя два различных метода: `str()` and `repr()`. Мы изучим эти функции более подобно позднее, но сразу скажем, что `%r` и `repr()` представляют строковое представление объекта (*string representation*), включая кавычки и любые символы экранирования."
   ],
   "id": "1f1255b457fa23a7"
  },
  {
   "metadata": {
    "ExecuteTime": {
     "end_time": "2025-08-15T05:12:34.286937Z",
     "start_time": "2025-08-15T05:12:34.282022Z"
    }
   },
   "cell_type": "code",
   "source": [
    "print('He said his name was %s.' %'Fred')\n",
    "print('He said his name was %r.' %'Fred')"
   ],
   "id": "b5eba9f046e21953",
   "outputs": [
    {
     "name": "stdout",
     "output_type": "stream",
     "text": [
      "He said his name was Fred.\n",
      "He said his name was 'Fred'.\n"
     ]
    }
   ],
   "execution_count": 3
  },
  {
   "metadata": {},
   "cell_type": "markdown",
   "source": "Ещё один пример: `\\t` добавляет табуляцию.",
   "id": "b06924fb7dcabd1e"
  },
  {
   "metadata": {
    "ExecuteTime": {
     "end_time": "2025-08-15T05:13:57.722101Z",
     "start_time": "2025-08-15T05:13:57.717523Z"
    }
   },
   "cell_type": "code",
   "source": [
    "print('I once caught a fish %s.' %'this \\tbig')\n",
    "print('I once caught a fish %r.' %'this \\tbig')"
   ],
   "id": "8e4a6e75cfdf84af",
   "outputs": [
    {
     "name": "stdout",
     "output_type": "stream",
     "text": [
      "I once caught a fish this \tbig.\n",
      "I once caught a fish 'this \\tbig'.\n"
     ]
    }
   ],
   "execution_count": 4
  },
  {
   "metadata": {},
   "cell_type": "markdown",
   "source": "Оператор `%s` преобразует всё, что он видит, в строку, включая целые и дробные числа. Оператор `%d` сначала преобразует числа в целые числа integer, без округления. Обратите внимание на разницу:",
   "id": "f037089ea3a7b8fb"
  },
  {
   "metadata": {
    "ExecuteTime": {
     "end_time": "2025-08-15T05:15:00.740713Z",
     "start_time": "2025-08-15T05:15:00.735463Z"
    }
   },
   "cell_type": "code",
   "source": [
    "print('I wrote %s programs today.' %3.75)\n",
    "print('I wrote %d programs today.' %3.75)"
   ],
   "id": "494d28cc3e621e7a",
   "outputs": [
    {
     "name": "stdout",
     "output_type": "stream",
     "text": [
      "I wrote 3.75 programs today.\n",
      "I wrote 3 programs today.\n"
     ]
    }
   ],
   "execution_count": 5
  },
  {
   "metadata": {},
   "cell_type": "markdown",
   "source": [
    "### Числа с плавающей точкой: точность и добавление пробелов\n",
    "Числа с плавающей точкой (Floating point numbers) используют следующий формат: <code>%5.2f</code>. Здесь <code>5</code>  - это минимальное количество символов, которое будет содержаться в строке; если всё число не содержит достаточно цифр, то строка будет дополнена пробелами. Далее, <code>.2f</code> указывает, сколько цифр показать после разделителя дробной части. Давайте посмотрим несколько примеров:"
   ],
   "id": "e3f9cf9975bec5"
  },
  {
   "metadata": {
    "ExecuteTime": {
     "end_time": "2025-08-15T05:17:01.381686Z",
     "start_time": "2025-08-15T05:17:01.376203Z"
    }
   },
   "cell_type": "code",
   "source": "print('Floating point numbers: %5.2f' %(13.144))",
   "id": "8ae52f1005d0114d",
   "outputs": [
    {
     "name": "stdout",
     "output_type": "stream",
     "text": [
      "Floating point numbers: 13.14\n"
     ]
    }
   ],
   "execution_count": 6
  },
  {
   "metadata": {
    "ExecuteTime": {
     "end_time": "2025-08-15T05:18:11.106606Z",
     "start_time": "2025-08-15T05:18:11.100860Z"
    }
   },
   "cell_type": "code",
   "source": "print('Floating point numbers: %1.0f' %(13.144))",
   "id": "f0473168b006adef",
   "outputs": [
    {
     "name": "stdout",
     "output_type": "stream",
     "text": [
      "Floating point numbers: 13\n"
     ]
    }
   ],
   "execution_count": 11
  },
  {
   "metadata": {
    "ExecuteTime": {
     "end_time": "2025-08-15T05:18:48.903501Z",
     "start_time": "2025-08-15T05:18:48.898750Z"
    }
   },
   "cell_type": "code",
   "source": "print('Floating point numbers: %1.5f' %(13.144))",
   "id": "98f047a1b3a96ac5",
   "outputs": [
    {
     "name": "stdout",
     "output_type": "stream",
     "text": [
      "Floating point numbers: 13.14400\n"
     ]
    }
   ],
   "execution_count": 12
  },
  {
   "metadata": {
    "ExecuteTime": {
     "end_time": "2025-08-15T05:19:44.708328Z",
     "start_time": "2025-08-15T05:19:44.703833Z"
    }
   },
   "cell_type": "code",
   "source": "print('Floating point numbers: %25.2f' %(13.144))",
   "id": "29d6f392be3e46dc",
   "outputs": [
    {
     "name": "stdout",
     "output_type": "stream",
     "text": [
      "Floating point numbers:                     13.14\n"
     ]
    }
   ],
   "execution_count": 13
  },
  {
   "metadata": {},
   "cell_type": "markdown",
   "source": [
    "Чтобы выполнить форматирование объектов в строки для команды print, лучше использовать метод `.format()`. Синтаксис следующий:\n",
    "\n",
    "    'String here {} then also {}'.format('something1','something2')\n",
    "\n",
    "Например:"
   ],
   "id": "5ff0f1bb0873a3ab"
  },
  {
   "metadata": {
    "ExecuteTime": {
     "end_time": "2025-08-15T05:21:17.613927Z",
     "start_time": "2025-08-15T05:21:17.609228Z"
    }
   },
   "cell_type": "code",
   "source": "print('This is a string with an {}'.format('insert'))",
   "id": "f3c2d81a880b332f",
   "outputs": [
    {
     "name": "stdout",
     "output_type": "stream",
     "text": [
      "This is a string with an insert\n"
     ]
    }
   ],
   "execution_count": 14
  },
  {
   "metadata": {},
   "cell_type": "markdown",
   "source": "### Метод .format() имеет несколько преимуществ по сравнению с методом %s:",
   "id": "10cc4a0e7a5ecb0e"
  },
  {
   "metadata": {},
   "cell_type": "markdown",
   "source": "#### 1. Добавляемые объекты можно указать по их номеру:",
   "id": "b863ad7c120b6ada"
  },
  {
   "metadata": {
    "ExecuteTime": {
     "end_time": "2025-08-15T05:23:09.670833Z",
     "start_time": "2025-08-15T05:23:09.665795Z"
    }
   },
   "cell_type": "code",
   "source": "print('The {2} {1} {0}'.format('fox','brown','quick'))",
   "id": "50e5a2d041ac6aba",
   "outputs": [
    {
     "name": "stdout",
     "output_type": "stream",
     "text": [
      "The quick brown fox\n"
     ]
    }
   ],
   "execution_count": 15
  },
  {
   "metadata": {},
   "cell_type": "markdown",
   "source": "#### 2. Добавляемым объектам можно присвоить названия:",
   "id": "4325f5fad034ec8b"
  },
  {
   "metadata": {
    "ExecuteTime": {
     "end_time": "2025-08-15T05:24:23.170798Z",
     "start_time": "2025-08-15T05:24:23.166141Z"
    }
   },
   "cell_type": "code",
   "source": "print('First Object: {a}, Second Object: {b}, Third Object: {c}'.format(a=1,b='Two',c=12.3))",
   "id": "c71deaf259c93117",
   "outputs": [
    {
     "name": "stdout",
     "output_type": "stream",
     "text": [
      "First Object: 1, Second Object: Two, Third Object: 12.3\n"
     ]
    }
   ],
   "execution_count": 16
  },
  {
   "metadata": {},
   "cell_type": "markdown",
   "source": "#### 3. Добавляемые объекты можно переиспользовать, без дублирования:",
   "id": "8de0adbd6bc1d10b"
  },
  {
   "metadata": {
    "ExecuteTime": {
     "end_time": "2025-08-15T05:26:16.105052Z",
     "start_time": "2025-08-15T05:26:16.099016Z"
    }
   },
   "cell_type": "code",
   "source": [
    "print('A %s saved is a %s earned.' %('penny','penny'))\n",
    "# vs.\n",
    "print('A {p} saved is a {p} earned.'.format(p='penny'))"
   ],
   "id": "13c137cd2044890a",
   "outputs": [
    {
     "name": "stdout",
     "output_type": "stream",
     "text": [
      "A penny saved is a penny earned.\n",
      "A penny saved is a penny earned.\n"
     ]
    }
   ],
   "execution_count": 17
  },
  {
   "metadata": {},
   "cell_type": "markdown",
   "source": [
    "### Выравнивание, добавление пробелов и точность для `.format()`\n",
    "Внутри фигурных скобок можно указать длину полей, выравнивание влево/вправо, параметры округления и т.д."
   ],
   "id": "d24a372719483578"
  },
  {
   "metadata": {},
   "cell_type": "markdown",
   "source": "## f-строки (f-strings)",
   "id": "888f2122d99c5bfd"
  },
  {
   "metadata": {},
   "cell_type": "markdown",
   "source": "Добавленные в Python 3.6, f-строки имеют несколько преимуществ по сравнению с методом `.format()`, который мы рассмотрели выше. Одно из преимуществ - Вы можете указать внешние переменные напрямую в строке, а не передавать их как параметры через  `.format(var)`.",
   "id": "fa1f46882706d390"
  },
  {
   "metadata": {
    "ExecuteTime": {
     "end_time": "2025-08-15T05:34:57.586497Z",
     "start_time": "2025-08-15T05:34:57.581420Z"
    }
   },
   "cell_type": "code",
   "source": [
    "name = 'Fred'\n",
    "\n",
    "print(f\"He said his name is {name}.\")"
   ],
   "id": "a103ff74084396ac",
   "outputs": [
    {
     "name": "stdout",
     "output_type": "stream",
     "text": [
      "He said his name is Fred.\n"
     ]
    }
   ],
   "execution_count": 23
  },
  {
   "metadata": {},
   "cell_type": "markdown",
   "source": "Укажите `!r`, чтобы получить строковое представление:",
   "id": "3fb566074558f344"
  },
  {
   "metadata": {
    "ExecuteTime": {
     "end_time": "2025-08-15T05:35:18.636408Z",
     "start_time": "2025-08-15T05:35:18.631671Z"
    }
   },
   "cell_type": "code",
   "source": "print(f\"He said his name is {name!r}\")",
   "id": "e54580a2d09df56b",
   "outputs": [
    {
     "name": "stdout",
     "output_type": "stream",
     "text": [
      "He said his name is 'Fred'\n"
     ]
    }
   ],
   "execution_count": 24
  }
 ],
 "metadata": {
  "kernelspec": {
   "display_name": "Python 3",
   "language": "python",
   "name": "python3"
  },
  "language_info": {
   "codemirror_mode": {
    "name": "ipython",
    "version": 2
   },
   "file_extension": ".py",
   "mimetype": "text/x-python",
   "name": "python",
   "nbconvert_exporter": "python",
   "pygments_lexer": "ipython2",
   "version": "2.7.6"
  }
 },
 "nbformat": 4,
 "nbformat_minor": 5
}
