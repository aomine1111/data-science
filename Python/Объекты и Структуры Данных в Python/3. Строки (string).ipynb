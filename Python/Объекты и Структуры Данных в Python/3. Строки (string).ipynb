{
 "cells": [
  {
   "metadata": {},
   "cell_type": "markdown",
   "source": "# Строки (Strings)",
   "id": "f12fe9335ae9ffa"
  },
  {
   "metadata": {},
   "cell_type": "markdown",
   "source": "Строки используются в Python для хранения текстовой информации. Строки в Python являются последовательностью (*sequence*), то есть Python хранит каждый элемент строки в определенном порядке. Например, строка \"hello' - это последовательность символов в определенном порядке. Это значит, что мы можем использовать индексы, чтобы получить отдельные буквы (например, первую буквы или последнюю букву)",
   "id": "247dce95accf3eaa"
  },
  {
   "metadata": {},
   "cell_type": "markdown",
   "source": [
    "## Создание строки\n",
    "Чтобы создать строку в Python, можно использовать одинарные кавычки или двойные кавычки. Например:"
   ],
   "id": "6bf0e9a475f72d36"
  },
  {
   "metadata": {
    "ExecuteTime": {
     "end_time": "2025-08-13T17:50:47.539010Z",
     "start_time": "2025-08-13T17:50:47.528094Z"
    }
   },
   "cell_type": "code",
   "source": [
    "# Одно слово\n",
    "\"hello\""
   ],
   "id": "befd7584eb8d8fca",
   "outputs": [
    {
     "data": {
      "text/plain": [
       "'hello'"
      ]
     },
     "execution_count": 1,
     "metadata": {},
     "output_type": "execute_result"
    }
   ],
   "execution_count": 1
  },
  {
   "metadata": {
    "ExecuteTime": {
     "end_time": "2025-08-13T17:51:23.215422Z",
     "start_time": "2025-08-13T17:51:23.209615Z"
    }
   },
   "cell_type": "code",
   "source": [
    "# Целая фраза\n",
    "'This is also a string'"
   ],
   "id": "1686e89dc4dedf4c",
   "outputs": [
    {
     "data": {
      "text/plain": [
       "'This is also a string'"
      ]
     },
     "execution_count": 2,
     "metadata": {},
     "output_type": "execute_result"
    }
   ],
   "execution_count": 2
  },
  {
   "metadata": {},
   "cell_type": "markdown",
   "source": "Для отображения строки используется команда print.",
   "id": "f085977ea6aea1ab"
  },
  {
   "metadata": {
    "ExecuteTime": {
     "end_time": "2025-08-13T17:52:26.892151Z",
     "start_time": "2025-08-13T17:52:26.886900Z"
    }
   },
   "cell_type": "code",
   "source": [
    "print('Hello World 1')\n",
    "print('Hello World 2')\n",
    "print('Используйте \\n для перехода на новую строку')\n",
    "print('\\n')\n",
    "print('Видите?')"
   ],
   "id": "fedd80fe9d1e05c6",
   "outputs": [
    {
     "name": "stdout",
     "output_type": "stream",
     "text": [
      "Hello World 1\n",
      "Hello World 2\n",
      "Используйте \n",
      " для перехода на новую строку\n",
      "\n",
      "\n",
      "Видите?\n"
     ]
    }
   ],
   "execution_count": 3
  },
  {
   "metadata": {},
   "cell_type": "markdown",
   "source": "## Основы работы со строками",
   "id": "606ed06e4f547392"
  },
  {
   "metadata": {},
   "cell_type": "markdown",
   "source": "Мы можем использовать функцию len(), чтобы узнать длину строки!",
   "id": "2fb01af68660a950"
  },
  {
   "metadata": {
    "ExecuteTime": {
     "end_time": "2025-08-13T17:53:22.322150Z",
     "start_time": "2025-08-13T17:53:22.316378Z"
    }
   },
   "cell_type": "code",
   "source": "len(\"Hello World)\")",
   "id": "bf791ae638c91699",
   "outputs": [
    {
     "data": {
      "text/plain": [
       "12"
      ]
     },
     "execution_count": 4,
     "metadata": {},
     "output_type": "execute_result"
    }
   ],
   "execution_count": 4
  },
  {
   "metadata": {},
   "cell_type": "markdown",
   "source": "Встроенная функция len() считает все символы в строке, включая пробелы и пунктуацию.",
   "id": "ca8f4fc8df31abb4"
  },
  {
   "metadata": {},
   "cell_type": "markdown",
   "source": [
    "## Индексирование строк\n",
    "Как мы обсуждали, строки это последовательности, и Python может использовать индексы для получения части строки. Давайте посмотрим, как это работает.\n",
    "\n",
    "В Python мы используем скобки <code>[]</code> после объекта, чтобы обратиться к нему по индексу. В Python индексирование начинается с 0. Давайте создадим новый объект под названием <code>s</code>, и посмотрим примеры индексирования"
   ],
   "id": "ed9ff7c38ad58445"
  },
  {
   "metadata": {
    "ExecuteTime": {
     "end_time": "2025-08-13T17:57:28.016739Z",
     "start_time": "2025-08-13T17:57:28.012160Z"
    }
   },
   "cell_type": "code",
   "source": [
    "# Присвоить строку переменной s\n",
    "s = \"Hello World\""
   ],
   "id": "42eb5e68ae611e9a",
   "outputs": [],
   "execution_count": 5
  },
  {
   "metadata": {
    "ExecuteTime": {
     "end_time": "2025-08-13T17:57:28.921922Z",
     "start_time": "2025-08-13T17:57:28.914796Z"
    }
   },
   "cell_type": "code",
   "source": "s",
   "id": "3cf15023c1918631",
   "outputs": [
    {
     "data": {
      "text/plain": [
       "'Hello World'"
      ]
     },
     "execution_count": 6,
     "metadata": {},
     "output_type": "execute_result"
    }
   ],
   "execution_count": 6
  },
  {
   "metadata": {},
   "cell_type": "markdown",
   "source": "Теперь посмотрим индексирование!",
   "id": "108172394790b9d4"
  },
  {
   "metadata": {
    "ExecuteTime": {
     "end_time": "2025-08-13T17:57:56.738866Z",
     "start_time": "2025-08-13T17:57:56.732815Z"
    }
   },
   "cell_type": "code",
   "source": "s[0]",
   "id": "3fa3cc743fe2c3d6",
   "outputs": [
    {
     "data": {
      "text/plain": [
       "'H'"
      ]
     },
     "execution_count": 7,
     "metadata": {},
     "output_type": "execute_result"
    }
   ],
   "execution_count": 7
  },
  {
   "metadata": {
    "ExecuteTime": {
     "end_time": "2025-08-13T17:58:08.996120Z",
     "start_time": "2025-08-13T17:58:08.990988Z"
    }
   },
   "cell_type": "code",
   "source": "s[1]",
   "id": "e320686bd6a4572e",
   "outputs": [
    {
     "data": {
      "text/plain": [
       "'e'"
      ]
     },
     "execution_count": 8,
     "metadata": {},
     "output_type": "execute_result"
    }
   ],
   "execution_count": 8
  },
  {
   "metadata": {
    "ExecuteTime": {
     "end_time": "2025-08-13T17:58:15.360694Z",
     "start_time": "2025-08-13T17:58:15.355023Z"
    }
   },
   "cell_type": "code",
   "source": "s[2]",
   "id": "e430836beba419a",
   "outputs": [
    {
     "data": {
      "text/plain": [
       "'l'"
      ]
     },
     "execution_count": 9,
     "metadata": {},
     "output_type": "execute_result"
    }
   ],
   "execution_count": 9
  },
  {
   "metadata": {},
   "cell_type": "markdown",
   "source": "Мы можем использовать символ <code>:</code> для получения части строки - взять все символы до или после указанной позиции. Например:",
   "id": "358497a3e4066b44"
  },
  {
   "metadata": {
    "ExecuteTime": {
     "end_time": "2025-08-13T17:59:27.314044Z",
     "start_time": "2025-08-13T17:59:27.307987Z"
    }
   },
   "cell_type": "code",
   "source": [
    "# Взять всё, начиная с символа на первой позиции, и до конца строки s (равной len(s))\n",
    "s[1:]"
   ],
   "id": "c6ae128e2b2aa2a6",
   "outputs": [
    {
     "data": {
      "text/plain": [
       "'ello World'"
      ]
     },
     "execution_count": 10,
     "metadata": {},
     "output_type": "execute_result"
    }
   ],
   "execution_count": 10
  },
  {
   "metadata": {
    "ExecuteTime": {
     "end_time": "2025-08-13T18:01:00.396915Z",
     "start_time": "2025-08-13T18:01:00.391166Z"
    }
   },
   "cell_type": "code",
   "source": [
    "# Обратите внимание, что сама s не поменялась\n",
    "s"
   ],
   "id": "9f3517d1910c404d",
   "outputs": [
    {
     "data": {
      "text/plain": [
       "'Hello World'"
      ]
     },
     "execution_count": 11,
     "metadata": {},
     "output_type": "execute_result"
    }
   ],
   "execution_count": 11
  },
  {
   "metadata": {
    "ExecuteTime": {
     "end_time": "2025-08-13T18:01:19.749209Z",
     "start_time": "2025-08-13T18:01:19.744388Z"
    }
   },
   "cell_type": "code",
   "source": "s[:3]",
   "id": "796db87aa3aebeca",
   "outputs": [
    {
     "data": {
      "text/plain": [
       "'Hel'"
      ]
     },
     "execution_count": 12,
     "metadata": {},
     "output_type": "execute_result"
    }
   ],
   "execution_count": 12
  },
  {
   "metadata": {},
   "cell_type": "markdown",
   "source": "Также можно использовать отрицательные индексы, чтобы двигаться назад.",
   "id": "790716bfb5b246d9"
  },
  {
   "metadata": {
    "ExecuteTime": {
     "end_time": "2025-08-13T18:06:06.858460Z",
     "start_time": "2025-08-13T18:06:06.851463Z"
    }
   },
   "cell_type": "code",
   "source": "s[-1]",
   "id": "d8061c79933ef5a6",
   "outputs": [
    {
     "data": {
      "text/plain": [
       "'d'"
      ]
     },
     "execution_count": 13,
     "metadata": {},
     "output_type": "execute_result"
    }
   ],
   "execution_count": 13
  },
  {
   "metadata": {
    "ExecuteTime": {
     "end_time": "2025-08-13T18:06:39.001390Z",
     "start_time": "2025-08-13T18:06:38.995562Z"
    }
   },
   "cell_type": "code",
   "source": "s[:-1]",
   "id": "317f7bd4a65462d0",
   "outputs": [
    {
     "data": {
      "text/plain": [
       "'Hello Worl'"
      ]
     },
     "execution_count": 14,
     "metadata": {},
     "output_type": "execute_result"
    }
   ],
   "execution_count": 14
  },
  {
   "metadata": {},
   "cell_type": "markdown",
   "source": "Мы также можем использовать индексы, чтобы получить последовательность элементов с определенным шагом (по умолчанию шаг равен 1). Для этого пишем два двоеточия подряд, и затем число, с каким шагом мы берём элементы. Например:",
   "id": "17e32db95a9f909"
  },
  {
   "metadata": {
    "ExecuteTime": {
     "end_time": "2025-08-13T18:16:55.652906Z",
     "start_time": "2025-08-13T18:16:55.646407Z"
    }
   },
   "cell_type": "code",
   "source": [
    "# Взять всё, но идти с определенным шагом (размера 1)\n",
    "s[::1]"
   ],
   "id": "7892a2cd1038c470",
   "outputs": [
    {
     "data": {
      "text/plain": [
       "'Hello World'"
      ]
     },
     "execution_count": 15,
     "metadata": {},
     "output_type": "execute_result"
    }
   ],
   "execution_count": 15
  },
  {
   "metadata": {
    "ExecuteTime": {
     "end_time": "2025-08-13T18:17:05.566430Z",
     "start_time": "2025-08-13T18:17:05.560951Z"
    }
   },
   "cell_type": "code",
   "source": [
    "# Взять всё, но идти с определенным шагом (размера 2)\n",
    "s[::2]"
   ],
   "id": "a90fad0b7f7ad1c0",
   "outputs": [
    {
     "data": {
      "text/plain": [
       "'HloWrd'"
      ]
     },
     "execution_count": 16,
     "metadata": {},
     "output_type": "execute_result"
    }
   ],
   "execution_count": 16
  },
  {
   "metadata": {
    "ExecuteTime": {
     "end_time": "2025-08-13T18:17:17.338455Z",
     "start_time": "2025-08-13T18:17:17.332333Z"
    }
   },
   "cell_type": "code",
   "source": [
    "# Вот так можно отобразить строку, начиная с конца и двигаясь к началу строки:\n",
    "s[::-1]"
   ],
   "id": "52ed0ea44ec45107",
   "outputs": [
    {
     "data": {
      "text/plain": [
       "'dlroW olleH'"
      ]
     },
     "execution_count": 17,
     "metadata": {},
     "output_type": "execute_result"
    }
   ],
   "execution_count": 17
  },
  {
   "metadata": {},
   "cell_type": "markdown",
   "source": [
    "## Свойства строк\n",
    "Важно сказать, что строки обладают важным свойством неизменности (*immutability*). Это значит, что после того, как строка была создана, элементы внутри нее не могут быть изменены или удалены. Например:"
   ],
   "id": "329b24bba38d3628"
  },
  {
   "metadata": {
    "ExecuteTime": {
     "end_time": "2025-08-13T18:17:55.007561Z",
     "start_time": "2025-08-13T18:17:55.002186Z"
    }
   },
   "cell_type": "code",
   "source": "s",
   "id": "1e090608676ee7ee",
   "outputs": [
    {
     "data": {
      "text/plain": [
       "'Hello World'"
      ]
     },
     "execution_count": 18,
     "metadata": {},
     "output_type": "execute_result"
    }
   ],
   "execution_count": 18
  },
  {
   "metadata": {
    "ExecuteTime": {
     "end_time": "2025-08-13T18:18:06.022677Z",
     "start_time": "2025-08-13T18:18:05.455554Z"
    }
   },
   "cell_type": "code",
   "source": [
    "# Попробуем поменять первую букву на 'x'\n",
    "s[0] = 'x'"
   ],
   "id": "efcb094016e4bace",
   "outputs": [
    {
     "ename": "TypeError",
     "evalue": "'str' object does not support item assignment",
     "output_type": "error",
     "traceback": [
      "\u001B[31m---------------------------------------------------------------------------\u001B[39m",
      "\u001B[31mTypeError\u001B[39m                                 Traceback (most recent call last)",
      "\u001B[36mCell\u001B[39m\u001B[36m \u001B[39m\u001B[32mIn[19]\u001B[39m\u001B[32m, line 2\u001B[39m\n\u001B[32m      1\u001B[39m \u001B[38;5;66;03m# Попробуем поменять первую букву на 'x'\u001B[39;00m\n\u001B[32m----> \u001B[39m\u001B[32m2\u001B[39m \u001B[43ms\u001B[49m\u001B[43m[\u001B[49m\u001B[32;43m0\u001B[39;49m\u001B[43m]\u001B[49m = \u001B[33m'\u001B[39m\u001B[33mx\u001B[39m\u001B[33m'\u001B[39m\n",
      "\u001B[31mTypeError\u001B[39m: 'str' object does not support item assignment"
     ]
    }
   ],
   "execution_count": 19
  },
  {
   "metadata": {},
   "cell_type": "markdown",
   "source": [
    "Обратите внимание, что ошибка явно указывает, что нам нельзя делать!\n",
    "\n",
    "При этом мы *можем* соединять строки (выполнять конкатенацию строк)!"
   ],
   "id": "33bd96de4bafde9b"
  },
  {
   "metadata": {
    "ExecuteTime": {
     "end_time": "2025-08-13T18:18:37.232141Z",
     "start_time": "2025-08-13T18:18:37.225994Z"
    }
   },
   "cell_type": "code",
   "source": "s",
   "id": "7650ea5061381c87",
   "outputs": [
    {
     "data": {
      "text/plain": [
       "'Hello World'"
      ]
     },
     "execution_count": 20,
     "metadata": {},
     "output_type": "execute_result"
    }
   ],
   "execution_count": 20
  },
  {
   "metadata": {
    "ExecuteTime": {
     "end_time": "2025-08-13T18:26:17.313493Z",
     "start_time": "2025-08-13T18:26:17.309518Z"
    }
   },
   "cell_type": "code",
   "source": [
    "# Соединяем строки (конкатенация)!\n",
    "s = s + ' concatenate me!'"
   ],
   "id": "7a5d69a40f28739b",
   "outputs": [],
   "execution_count": 28
  },
  {
   "metadata": {
    "ExecuteTime": {
     "end_time": "2025-08-13T18:19:24.789932Z",
     "start_time": "2025-08-13T18:19:24.785289Z"
    }
   },
   "cell_type": "code",
   "source": "s",
   "id": "f851f563ba9b0e26",
   "outputs": [
    {
     "data": {
      "text/plain": [
       "'Hello World'"
      ]
     },
     "execution_count": 22,
     "metadata": {},
     "output_type": "execute_result"
    }
   ],
   "execution_count": 22
  },
  {
   "metadata": {},
   "cell_type": "markdown",
   "source": "Мы можем использовать знак умножения, чтобы сделать повторения!",
   "id": "934c9ceb542f24c2"
  },
  {
   "metadata": {
    "ExecuteTime": {
     "end_time": "2025-08-13T18:20:23.342816Z",
     "start_time": "2025-08-13T18:20:23.338996Z"
    }
   },
   "cell_type": "code",
   "source": "letter = 'z'",
   "id": "9d4b20a60356765a",
   "outputs": [],
   "execution_count": 23
  },
  {
   "metadata": {
    "ExecuteTime": {
     "end_time": "2025-08-13T18:20:24.208185Z",
     "start_time": "2025-08-13T18:20:24.201026Z"
    }
   },
   "cell_type": "code",
   "source": "letter * 10",
   "id": "b9d6b444314b3daa",
   "outputs": [
    {
     "data": {
      "text/plain": [
       "'zzzzzzzzzz'"
      ]
     },
     "execution_count": 24,
     "metadata": {},
     "output_type": "execute_result"
    }
   ],
   "execution_count": 24
  },
  {
   "metadata": {},
   "cell_type": "markdown",
   "source": [
    "## Основные встроенные методы для строк\n",
    "\n",
    "Обычно объекты в Python имеют встроенные методы. Методы - это функции внутри объекта (мы изучим их более подробно чуть позднее), которые могут выполнять действия или команды над этим объектом.\n",
    "\n",
    "Чтобы вызвать метод, пишем точку после имени объекта, и дальше имя метода. Вот так:\n",
    "\n",
    "object.method(parameters)\n",
    "\n",
    "Параметры - это дополнительные аргументы, которые можно передать в метод. Не волнуйтесь, если сейчас это звучит расплывчато. Позже мы будем создавать свои объекты и функции!\n",
    "\n",
    "Вот несколько примеров встроенных методов для строк:"
   ],
   "id": "4cace775a9539e5e"
  },
  {
   "metadata": {
    "ExecuteTime": {
     "end_time": "2025-08-13T18:26:23.800930Z",
     "start_time": "2025-08-13T18:26:23.795454Z"
    }
   },
   "cell_type": "code",
   "source": "s",
   "id": "592431ff76720f70",
   "outputs": [
    {
     "data": {
      "text/plain": [
       "'Hello World concatenate me! concatenate me!'"
      ]
     },
     "execution_count": 29,
     "metadata": {},
     "output_type": "execute_result"
    }
   ],
   "execution_count": 29
  },
  {
   "metadata": {
    "ExecuteTime": {
     "end_time": "2025-08-13T18:26:25.720569Z",
     "start_time": "2025-08-13T18:26:25.715352Z"
    }
   },
   "cell_type": "code",
   "source": [
    "# Перевод строки в верхний регистр\n",
    "s.upper()"
   ],
   "id": "9cbd4f1e9abe0675",
   "outputs": [
    {
     "data": {
      "text/plain": [
       "'HELLO WORLD CONCATENATE ME! CONCATENATE ME!'"
      ]
     },
     "execution_count": 30,
     "metadata": {},
     "output_type": "execute_result"
    }
   ],
   "execution_count": 30
  },
  {
   "metadata": {
    "ExecuteTime": {
     "end_time": "2025-08-13T18:26:43.601767Z",
     "start_time": "2025-08-13T18:26:43.596288Z"
    }
   },
   "cell_type": "code",
   "source": [
    "# Перевод строки в нижний регистр\n",
    "s.lower()"
   ],
   "id": "4cf7945e0ff1fcb2",
   "outputs": [
    {
     "data": {
      "text/plain": [
       "'hello world concatenate me! concatenate me!'"
      ]
     },
     "execution_count": 31,
     "metadata": {},
     "output_type": "execute_result"
    }
   ],
   "execution_count": 31
  },
  {
   "metadata": {
    "ExecuteTime": {
     "end_time": "2025-08-13T18:27:23.499597Z",
     "start_time": "2025-08-13T18:27:23.472374Z"
    }
   },
   "cell_type": "code",
   "source": [
    "# Разбиение строки на части, используя в качестве разделителя пробел (это разделитель по умолчанию)\n",
    "s.split()"
   ],
   "id": "e9ed23476f7b3b7d",
   "outputs": [
    {
     "data": {
      "text/plain": [
       "['Hello', 'World', 'concatenate', 'me!', 'concatenate', 'me!']"
      ]
     },
     "execution_count": 32,
     "metadata": {},
     "output_type": "execute_result"
    }
   ],
   "execution_count": 32
  },
  {
   "metadata": {
    "ExecuteTime": {
     "end_time": "2025-08-13T18:28:08.893092Z",
     "start_time": "2025-08-13T18:28:08.887120Z"
    }
   },
   "cell_type": "code",
   "source": [
    "# Разбиение по указанному элементу (не включает сам элемент, по которому выполнялось разбиение)\n",
    "s.split(\"W\")"
   ],
   "id": "a3dc6020e8804407",
   "outputs": [
    {
     "data": {
      "text/plain": [
       "['Hello ', 'orld concatenate me! concatenate me!']"
      ]
     },
     "execution_count": 34,
     "metadata": {},
     "output_type": "execute_result"
    }
   ],
   "execution_count": 34
  },
  {
   "metadata": {},
   "cell_type": "markdown",
   "source": [
    "# Форматирование отображения\n",
    "\n",
    "Чтобы добавить объекты в определенном формате к строке, можно использовать метод .format().\n",
    "\n",
    "Это проще всего показать на примере:"
   ],
   "id": "2e27313d597a2a7b"
  },
  {
   "metadata": {
    "ExecuteTime": {
     "end_time": "2025-08-13T18:31:39.919767Z",
     "start_time": "2025-08-13T18:31:39.913966Z"
    }
   },
   "cell_type": "code",
   "source": "'Добавить еще одну строку с помощью фигурных скобок: {}'.format('Добавляемая строка')",
   "id": "79f864bcd6df41fe",
   "outputs": [
    {
     "data": {
      "text/plain": [
       "'Добавить еще одну строку с помощью фигурных скобок: Добавляемая строка'"
      ]
     },
     "execution_count": 35,
     "metadata": {},
     "output_type": "execute_result"
    }
   ],
   "execution_count": 35
  },
  {
   "metadata": {
    "ExecuteTime": {
     "end_time": "2025-08-13T18:32:06.670884Z",
     "start_time": "2025-08-13T18:32:06.665433Z"
    }
   },
   "cell_type": "code",
   "source": [
    "name = \"Алексей\"\n",
    "age = 30\n",
    "message = f\"Меня зовут {name}, мне {age} лет.\"\n",
    "print(message)\n",
    "# Вывод: Меня зовут Алексей, мне 30 лет."
   ],
   "id": "ccef9c0bd3e60f83",
   "outputs": [
    {
     "name": "stdout",
     "output_type": "stream",
     "text": [
      "Меня зовут Алексей, мне 30 лет.\n"
     ]
    }
   ],
   "execution_count": 36
  }
 ],
 "metadata": {
  "kernelspec": {
   "display_name": "Python 3",
   "language": "python",
   "name": "python3"
  },
  "language_info": {
   "codemirror_mode": {
    "name": "ipython",
    "version": 2
   },
   "file_extension": ".py",
   "mimetype": "text/x-python",
   "name": "python",
   "nbconvert_exporter": "python",
   "pygments_lexer": "ipython2",
   "version": "2.7.6"
  }
 },
 "nbformat": 4,
 "nbformat_minor": 5
}
