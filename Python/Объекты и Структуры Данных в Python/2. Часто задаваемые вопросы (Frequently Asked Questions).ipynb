{
 "cells": [
  {
   "metadata": {},
   "cell_type": "markdown",
   "source": [
    "# Переменные\n",
    "## Правила для имен переменных\n",
    "* Имя не может начинаться с числа.\n",
    "* В имени не может быть пробелов, вместо этого используйте нижнее подчёркивание: \"_\".\n",
    "* Имя не может содержать следующие символы:\n",
    "      :'\",<>/?|\\!@#%^&*~-+\n",
    "* Считается хорошей практикой писать имена в нижнем регистре - см. [PEP8](https://www.python.org/dev/peps/pep-0008/#function-and-variable-names)\n",
    "* Не используйте в качестве названий переменных ключевые слова Python, такие как `list` и `str`\n",
    "* Не используйте следующие имена из одной буквы: 'l' (нижний регистр буквы L), 'O' (Верхний регистр буквы о), и 'I' (верхний регистр буквы i), потому что их можно спутать с единицей '1' и нулем '0'."
   ],
   "id": "5d601fb94031d028"
  },
  {
   "metadata": {},
   "cell_type": "markdown",
   "source": [
    "## Динамические типы данных\n",
    "\n",
    "Python использует динамические типы данных (*dynamic typing*), то есть Вы можете присваивать переменным значения сначала одного, а затем другого типа. Благодаря этому Python очень гибко работает с типами данных; это отличает его от тех языков программирования, в которых типы данных *статичные*."
   ],
   "id": "fe6246d5e2a6af3e"
  },
  {
   "metadata": {
    "ExecuteTime": {
     "end_time": "2025-08-13T17:25:23.207674Z",
     "start_time": "2025-08-13T17:25:23.203354Z"
    }
   },
   "cell_type": "code",
   "source": "my_dogs = 2",
   "id": "eb43159635af9394",
   "outputs": [],
   "execution_count": 3
  },
  {
   "metadata": {
    "ExecuteTime": {
     "end_time": "2025-08-13T17:25:33.378830Z",
     "start_time": "2025-08-13T17:25:33.369398Z"
    }
   },
   "cell_type": "code",
   "source": "my_dogs",
   "id": "d33df3272563dbc5",
   "outputs": [
    {
     "data": {
      "text/plain": [
       "2"
      ]
     },
     "execution_count": 4,
     "metadata": {},
     "output_type": "execute_result"
    }
   ],
   "execution_count": 4
  },
  {
   "metadata": {
    "ExecuteTime": {
     "end_time": "2025-08-13T17:26:44.090490Z",
     "start_time": "2025-08-13T17:26:44.086690Z"
    }
   },
   "cell_type": "code",
   "source": "my_dogs = ['Sammy', 'Frankie']",
   "id": "d6710c10200482c",
   "outputs": [],
   "execution_count": 7
  },
  {
   "metadata": {
    "ExecuteTime": {
     "end_time": "2025-08-13T17:26:53.824001Z",
     "start_time": "2025-08-13T17:26:53.818741Z"
    }
   },
   "cell_type": "code",
   "source": "my_dogs",
   "id": "ca8158dd78cd08d1",
   "outputs": [
    {
     "data": {
      "text/plain": [
       "['Sammy', 'Frankie']"
      ]
     },
     "execution_count": 8,
     "metadata": {},
     "output_type": "execute_result"
    }
   ],
   "execution_count": 8
  },
  {
   "metadata": {},
   "cell_type": "markdown",
   "source": [
    "### Плюсы и минусы динамических типов данных\n",
    "#### Плюсы\n",
    "* легче работать\n",
    "* быстрее время разработки\n",
    "\n",
    "#### Минусы\n",
    "* можно получить неожиданные ошибки!\n",
    "* нужно следить за типами данных - `type()`"
   ],
   "id": "6b26599eb03ce4b5"
  },
  {
   "metadata": {},
   "cell_type": "markdown",
   "source": [
    "## Присвоение переменных\n",
    "Присвоение переменных пишется вот так: `name = object`, где оператор `=` это оператор присвоения (*assignment operator*)"
   ],
   "id": "4f61610b3dc80c30"
  },
  {
   "metadata": {
    "ExecuteTime": {
     "end_time": "2025-08-13T17:31:36.570530Z",
     "start_time": "2025-08-13T17:31:36.563680Z"
    }
   },
   "cell_type": "code",
   "source": "a = 10",
   "id": "7c27631bf04dd4b7",
   "outputs": [],
   "execution_count": 14
  },
  {
   "metadata": {
    "ExecuteTime": {
     "end_time": "2025-08-13T17:29:03.965908Z",
     "start_time": "2025-08-13T17:29:03.958691Z"
    }
   },
   "cell_type": "code",
   "source": "a",
   "id": "c402e3d44651d1f9",
   "outputs": [
    {
     "data": {
      "text/plain": [
       "5"
      ]
     },
     "execution_count": 10,
     "metadata": {},
     "output_type": "execute_result"
    }
   ],
   "execution_count": 10
  },
  {
   "metadata": {
    "ExecuteTime": {
     "end_time": "2025-08-13T17:29:33.834207Z",
     "start_time": "2025-08-13T17:29:33.827849Z"
    }
   },
   "cell_type": "code",
   "source": "a + a",
   "id": "7d49f8b91e79d5d8",
   "outputs": [
    {
     "data": {
      "text/plain": [
       "10"
      ]
     },
     "execution_count": 11,
     "metadata": {},
     "output_type": "execute_result"
    }
   ],
   "execution_count": 11
  },
  {
   "metadata": {},
   "cell_type": "markdown",
   "source": [
    "## Переопределение переменных\n",
    "Python позволяет переопределять переменные, ссылаясь на тот же самый объект"
   ],
   "id": "d0f9abf8d4842709"
  },
  {
   "metadata": {
    "ExecuteTime": {
     "end_time": "2025-08-13T17:31:53.509882Z",
     "start_time": "2025-08-13T17:31:53.505828Z"
    }
   },
   "cell_type": "code",
   "source": "a = a + 10",
   "id": "6aca86d72ce0683f",
   "outputs": [],
   "execution_count": 15
  },
  {
   "metadata": {
    "ExecuteTime": {
     "end_time": "2025-08-13T17:32:02.568182Z",
     "start_time": "2025-08-13T17:32:02.563226Z"
    }
   },
   "cell_type": "code",
   "source": "a",
   "id": "49858467e787a609",
   "outputs": [
    {
     "data": {
      "text/plain": [
       "20"
      ]
     },
     "execution_count": 16,
     "metadata": {},
     "output_type": "execute_result"
    }
   ],
   "execution_count": 16
  },
  {
   "metadata": {},
   "cell_type": "markdown",
   "source": "И это можно написать в короткой форме. Python позволяет складывать, вычитать, умножать и делить числа с помощью `+=`, `-=`, `*=` и `/=`.",
   "id": "b6d7e34b7e76418b"
  },
  {
   "metadata": {
    "ExecuteTime": {
     "end_time": "2025-08-13T17:32:50.544812Z",
     "start_time": "2025-08-13T17:32:50.540551Z"
    }
   },
   "cell_type": "code",
   "source": "a += 10 # это означает: a = a + 10",
   "id": "74176ff5b9bcf8fb",
   "outputs": [],
   "execution_count": 17
  },
  {
   "metadata": {
    "ExecuteTime": {
     "end_time": "2025-08-13T17:32:55.117083Z",
     "start_time": "2025-08-13T17:32:55.110710Z"
    }
   },
   "cell_type": "code",
   "source": "a",
   "id": "9a818d5a71665002",
   "outputs": [
    {
     "data": {
      "text/plain": [
       "30"
      ]
     },
     "execution_count": 18,
     "metadata": {},
     "output_type": "execute_result"
    }
   ],
   "execution_count": 18
  },
  {
   "metadata": {
    "ExecuteTime": {
     "end_time": "2025-08-13T17:35:43.848298Z",
     "start_time": "2025-08-13T17:35:43.843219Z"
    }
   },
   "cell_type": "code",
   "source": "a *= 2 # это означает: a = a * 10",
   "id": "de732aa0d6361bf8",
   "outputs": [],
   "execution_count": 19
  },
  {
   "metadata": {
    "ExecuteTime": {
     "end_time": "2025-08-13T17:35:48.050732Z",
     "start_time": "2025-08-13T17:35:48.045574Z"
    }
   },
   "cell_type": "code",
   "source": "a",
   "id": "ef01a1820f742269",
   "outputs": [
    {
     "data": {
      "text/plain": [
       "60"
      ]
     },
     "execution_count": 20,
     "metadata": {},
     "output_type": "execute_result"
    }
   ],
   "execution_count": 20
  },
  {
   "metadata": {},
   "cell_type": "markdown",
   "source": [
    "## Определение типа переменной с помощью `type()`\n",
    "Вы можете узнать тип объекта, который был присвоен переменной, с помощью встроенной функции `type()`. Часто используемые типы данных:\n",
    "* **int** (для integer)\n",
    "* **float**\n",
    "* **str** (для string)\n",
    "* **list**\n",
    "* **tuple**\n",
    "* **dict** (для dictionary)\n",
    "* **set**\n",
    "* **bool** (для Boolean True/False)"
   ],
   "id": "30790957c289677f"
  },
  {
   "metadata": {
    "ExecuteTime": {
     "end_time": "2025-08-13T17:43:46.124513Z",
     "start_time": "2025-08-13T17:43:46.118565Z"
    }
   },
   "cell_type": "code",
   "source": "type(a)",
   "id": "ff1ff7bc29456e2f",
   "outputs": [
    {
     "data": {
      "text/plain": [
       "int"
      ]
     },
     "execution_count": 21,
     "metadata": {},
     "output_type": "execute_result"
    }
   ],
   "execution_count": 21
  },
  {
   "metadata": {
    "ExecuteTime": {
     "end_time": "2025-08-13T17:44:11.883137Z",
     "start_time": "2025-08-13T17:44:11.878470Z"
    }
   },
   "cell_type": "code",
   "source": "a = (1,2)",
   "id": "3af9aa5625ff9caf",
   "outputs": [],
   "execution_count": 23
  },
  {
   "metadata": {
    "ExecuteTime": {
     "end_time": "2025-08-13T17:44:12.988927Z",
     "start_time": "2025-08-13T17:44:12.983120Z"
    }
   },
   "cell_type": "code",
   "source": "type(a)",
   "id": "f4ac732a25334b40",
   "outputs": [
    {
     "data": {
      "text/plain": [
       "tuple"
      ]
     },
     "execution_count": 24,
     "metadata": {},
     "output_type": "execute_result"
    }
   ],
   "execution_count": 24
  }
 ],
 "metadata": {
  "kernelspec": {
   "display_name": "Python 3",
   "language": "python",
   "name": "python3"
  },
  "language_info": {
   "codemirror_mode": {
    "name": "ipython",
    "version": 2
   },
   "file_extension": ".py",
   "mimetype": "text/x-python",
   "name": "python",
   "nbconvert_exporter": "python",
   "pygments_lexer": "ipython2",
   "version": "2.7.6"
  }
 },
 "nbformat": 4,
 "nbformat_minor": 5
}
