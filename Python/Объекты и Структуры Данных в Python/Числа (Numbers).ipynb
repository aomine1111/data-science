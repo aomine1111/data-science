{
 "cells": [
  {
   "metadata": {},
   "cell_type": "markdown",
   "source": [
    "## Типы чисел\n",
    "В Python есть различные \"типы\" чисел (числовых литералов). В основном целые (integer) и числами с плвающей точкой (floting point numbers).\n",
    "\n",
    "Integer - это целые числа, положительные или отрицальные. Например: 2 и -2 это примеры целых чисел.\n",
    "\n",
    "Числа с плавающей точкой в Python отличаются тем, что имеют разделитель целой и дробной части, или использует экспоненту (e) для определения числа. Например, 2.0 и -2.1 - это примеры чисел с плавающей точкой. Число 4E2 - это тоже пример числа с плавающей точкой в Python. Формат 4E2 означает следующее: 4 умножить на 10 в степени 2, то есть число 400.0\n"
   ],
   "id": "79d335ad9b16577b"
  },
  {
   "metadata": {},
   "cell_type": "markdown",
   "source": [
    "<table>\n",
    "<tr>\n",
    "    <th>Примеры</th>\n",
    "    <th>\"Тип\" числа</th>\n",
    "</tr>\n",
    "\n",
    "<tr>\n",
    "    <td>1,2,-5,1000</td>\n",
    "    <td>Целые числа<br>(Integers)</td>\n",
    "</tr>\n",
    "\n",
    "<tr>\n",
    "    <td>1.2,-0.5,2e2,3E2</td>\n",
    "    <td>Числа с плавающей точкой<br>(Floating-point numbers)</td>\n",
    "</tr>\n",
    " </table>"
   ],
   "id": "51b4bc401f5fd36"
  },
  {
   "metadata": {},
   "cell_type": "markdown",
   "source": "## Основные арифметические действаия",
   "id": "24323f3d1647b3f5"
  },
  {
   "metadata": {
    "ExecuteTime": {
     "end_time": "2025-08-13T16:45:49.564505Z",
     "start_time": "2025-08-13T16:45:49.554651Z"
    }
   },
   "cell_type": "code",
   "source": [
    "# Сложение\n",
    "2 + 1"
   ],
   "id": "502735167fe1e94f",
   "outputs": [
    {
     "data": {
      "text/plain": [
       "3"
      ]
     },
     "execution_count": 2,
     "metadata": {},
     "output_type": "execute_result"
    }
   ],
   "execution_count": 2
  },
  {
   "metadata": {
    "ExecuteTime": {
     "end_time": "2025-08-13T16:46:14.963745Z",
     "start_time": "2025-08-13T16:46:14.957771Z"
    }
   },
   "cell_type": "code",
   "source": [
    "# Вычитание\n",
    "2 - 1"
   ],
   "id": "66aea6b31123a8ab",
   "outputs": [
    {
     "data": {
      "text/plain": [
       "1"
      ]
     },
     "execution_count": 3,
     "metadata": {},
     "output_type": "execute_result"
    }
   ],
   "execution_count": 3
  },
  {
   "metadata": {
    "ExecuteTime": {
     "end_time": "2025-08-13T16:46:36.417278Z",
     "start_time": "2025-08-13T16:46:36.411535Z"
    }
   },
   "cell_type": "code",
   "source": [
    "# Умножение\n",
    "2 * 2"
   ],
   "id": "47224063eb56ddd7",
   "outputs": [
    {
     "data": {
      "text/plain": [
       "4"
      ]
     },
     "execution_count": 4,
     "metadata": {},
     "output_type": "execute_result"
    }
   ],
   "execution_count": 4
  },
  {
   "metadata": {
    "ExecuteTime": {
     "end_time": "2025-08-13T16:47:06.910076Z",
     "start_time": "2025-08-13T16:47:06.904151Z"
    }
   },
   "cell_type": "code",
   "source": [
    "# Деление\n",
    "3/2"
   ],
   "id": "46f5d600c9b6a188",
   "outputs": [
    {
     "data": {
      "text/plain": [
       "1.5"
      ]
     },
     "execution_count": 5,
     "metadata": {},
     "output_type": "execute_result"
    }
   ],
   "execution_count": 5
  },
  {
   "metadata": {
    "ExecuteTime": {
     "end_time": "2025-08-13T16:47:25.766079Z",
     "start_time": "2025-08-13T16:47:25.760963Z"
    }
   },
   "cell_type": "code",
   "source": [
    "# Целочисленное деление (Floor Division)\n",
    "7//4"
   ],
   "id": "a8e8aaae73e59709",
   "outputs": [
    {
     "data": {
      "text/plain": [
       "1"
      ]
     },
     "execution_count": 6,
     "metadata": {},
     "output_type": "execute_result"
    }
   ],
   "execution_count": 6
  },
  {
   "metadata": {},
   "cell_type": "markdown",
   "source": "**Что если мы хотим узнать остаток от деления?**",
   "id": "54bf64ac173210d2"
  },
  {
   "metadata": {
    "ExecuteTime": {
     "end_time": "2025-08-13T16:48:22.516143Z",
     "start_time": "2025-08-13T16:48:22.510729Z"
    }
   },
   "cell_type": "code",
   "source": "7 % 4",
   "id": "7c9dab6e46398326",
   "outputs": [
    {
     "data": {
      "text/plain": [
       "3"
      ]
     },
     "execution_count": 7,
     "metadata": {},
     "output_type": "execute_result"
    }
   ],
   "execution_count": 7
  },
  {
   "metadata": {},
   "cell_type": "markdown",
   "source": "### Арифметика - продолжение",
   "id": "7ae9b2ca1a47a81e"
  },
  {
   "metadata": {
    "ExecuteTime": {
     "end_time": "2025-08-13T16:49:25.819155Z",
     "start_time": "2025-08-13T16:49:25.814221Z"
    }
   },
   "cell_type": "code",
   "source": [
    "# Возведение в степень\n",
    "2 ** 3"
   ],
   "id": "c23f718b8ab120ea",
   "outputs": [
    {
     "data": {
      "text/plain": [
       "8"
      ]
     },
     "execution_count": 8,
     "metadata": {},
     "output_type": "execute_result"
    }
   ],
   "execution_count": 8
  },
  {
   "metadata": {
    "ExecuteTime": {
     "end_time": "2025-08-13T16:50:23.828081Z",
     "start_time": "2025-08-13T16:50:23.822397Z"
    }
   },
   "cell_type": "code",
   "source": [
    "# Этим же способом можно извлекать корень\n",
    "4 ** 0.5"
   ],
   "id": "e1b51fe1bebfc881",
   "outputs": [
    {
     "data": {
      "text/plain": [
       "2.0"
      ]
     },
     "execution_count": 9,
     "metadata": {},
     "output_type": "execute_result"
    }
   ],
   "execution_count": 9
  },
  {
   "metadata": {
    "ExecuteTime": {
     "end_time": "2025-08-13T16:52:55.814673Z",
     "start_time": "2025-08-13T16:52:55.809405Z"
    }
   },
   "cell_type": "code",
   "source": [
    "# В Python соблюдается порядок операций - например, умножение выполняется раньше, чем сложение\n",
    "2 + 10 * 10 + 3"
   ],
   "id": "5ce2888c52406ac0",
   "outputs": [
    {
     "data": {
      "text/plain": [
       "105"
      ]
     },
     "execution_count": 10,
     "metadata": {},
     "output_type": "execute_result"
    }
   ],
   "execution_count": 10
  },
  {
   "metadata": {
    "ExecuteTime": {
     "end_time": "2025-08-13T16:53:06.690051Z",
     "start_time": "2025-08-13T16:53:06.684743Z"
    }
   },
   "cell_type": "code",
   "source": [
    "# Можно использовать скобки, чтобы указать нужный порядок выполнения операций\n",
    "(2+10) * (10+3)"
   ],
   "id": "a0ff72b9c17ee41d",
   "outputs": [
    {
     "data": {
      "text/plain": [
       "156"
      ]
     },
     "execution_count": 11,
     "metadata": {},
     "output_type": "execute_result"
    }
   ],
   "execution_count": 11
  }
 ],
 "metadata": {
  "kernelspec": {
   "display_name": "Python 3",
   "language": "python",
   "name": "python3"
  },
  "language_info": {
   "codemirror_mode": {
    "name": "ipython",
    "version": 2
   },
   "file_extension": ".py",
   "mimetype": "text/x-python",
   "name": "python",
   "nbconvert_exporter": "python",
   "pygments_lexer": "ipython2",
   "version": "2.7.6"
  }
 },
 "nbformat": 4,
 "nbformat_minor": 5
}
